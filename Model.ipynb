{
 "cells": [
  {
   "cell_type": "markdown",
   "id": "4567f59e",
   "metadata": {},
   "source": [
    "# Importing All Required Libraries and packages and the dataset"
   ]
  },
  {
   "cell_type": "code",
   "execution_count": 1,
   "id": "7349bcfe",
   "metadata": {},
   "outputs": [],
   "source": [
    "#------------------------- For Preparing Data-----------------------------------\n",
    "import pandas as pd\n",
    "from sklearn.model_selection import train_test_split\n",
    "\n",
    "#---------------------------For Training Model-----------------------------------\n",
    "\n",
    "\n",
    "\n",
    "# For Machine LEarning Pipeline\n",
    "from sklearn.pipeline import make_pipeline \n",
    "\n",
    "# For Standardising The Data\n",
    "from sklearn.preprocessing import StandardScaler \n",
    "\n",
    "# Different Machine Learning Models    \n",
    "from sklearn.linear_model import LogisticRegression, RidgeClassifier\n",
    "from sklearn.ensemble import RandomForestClassifier, GradientBoostingClassifier\n",
    "\n",
    "\n",
    "\n",
    "#------------------------- For accuracy Check ----------------------------------\n",
    "from sklearn.metrics import accuracy_score \n",
    "\n",
    "\n",
    "#---------------------To Save the Model----------------------------\n",
    "import pickle "
   ]
  },
  {
   "cell_type": "code",
   "execution_count": 2,
   "id": "cb2cf5e2",
   "metadata": {},
   "outputs": [],
   "source": [
    "df = pd.read_csv('coords.csv')"
   ]
  },
  {
   "cell_type": "code",
   "execution_count": 118,
   "id": "b01d87af",
   "metadata": {},
   "outputs": [
    {
     "data": {
      "text/html": [
       "<div>\n",
       "<style scoped>\n",
       "    .dataframe tbody tr th:only-of-type {\n",
       "        vertical-align: middle;\n",
       "    }\n",
       "\n",
       "    .dataframe tbody tr th {\n",
       "        vertical-align: top;\n",
       "    }\n",
       "\n",
       "    .dataframe thead th {\n",
       "        text-align: right;\n",
       "    }\n",
       "</style>\n",
       "<table border=\"1\" class=\"dataframe\">\n",
       "  <thead>\n",
       "    <tr style=\"text-align: right;\">\n",
       "      <th></th>\n",
       "      <th>class</th>\n",
       "      <th>x1</th>\n",
       "      <th>y1</th>\n",
       "      <th>z1</th>\n",
       "      <th>v1</th>\n",
       "      <th>x2</th>\n",
       "      <th>y2</th>\n",
       "      <th>z2</th>\n",
       "      <th>v2</th>\n",
       "      <th>x3</th>\n",
       "      <th>...</th>\n",
       "      <th>z499</th>\n",
       "      <th>v499</th>\n",
       "      <th>x500</th>\n",
       "      <th>y500</th>\n",
       "      <th>z500</th>\n",
       "      <th>v500</th>\n",
       "      <th>x501</th>\n",
       "      <th>y501</th>\n",
       "      <th>z501</th>\n",
       "      <th>v501</th>\n",
       "    </tr>\n",
       "  </thead>\n",
       "  <tbody>\n",
       "    <tr>\n",
       "      <th>449</th>\n",
       "      <td>Feeling Great</td>\n",
       "      <td>0.571177</td>\n",
       "      <td>0.527555</td>\n",
       "      <td>-1.349964</td>\n",
       "      <td>0.999606</td>\n",
       "      <td>0.613878</td>\n",
       "      <td>0.459346</td>\n",
       "      <td>-1.283326</td>\n",
       "      <td>0.999174</td>\n",
       "      <td>0.632936</td>\n",
       "      <td>...</td>\n",
       "      <td>-0.005416</td>\n",
       "      <td>0.0</td>\n",
       "      <td>0.662683</td>\n",
       "      <td>0.474247</td>\n",
       "      <td>0.016801</td>\n",
       "      <td>0.0</td>\n",
       "      <td>0.668626</td>\n",
       "      <td>0.469601</td>\n",
       "      <td>0.017567</td>\n",
       "      <td>0.0</td>\n",
       "    </tr>\n",
       "    <tr>\n",
       "      <th>450</th>\n",
       "      <td>Feeling Great</td>\n",
       "      <td>0.582205</td>\n",
       "      <td>0.527697</td>\n",
       "      <td>-1.325702</td>\n",
       "      <td>0.999609</td>\n",
       "      <td>0.622779</td>\n",
       "      <td>0.460364</td>\n",
       "      <td>-1.277012</td>\n",
       "      <td>0.999177</td>\n",
       "      <td>0.642141</td>\n",
       "      <td>...</td>\n",
       "      <td>-0.004919</td>\n",
       "      <td>0.0</td>\n",
       "      <td>0.674855</td>\n",
       "      <td>0.475222</td>\n",
       "      <td>0.018543</td>\n",
       "      <td>0.0</td>\n",
       "      <td>0.680979</td>\n",
       "      <td>0.469739</td>\n",
       "      <td>0.019451</td>\n",
       "      <td>0.0</td>\n",
       "    </tr>\n",
       "    <tr>\n",
       "      <th>451</th>\n",
       "      <td>Feeling Great</td>\n",
       "      <td>0.586737</td>\n",
       "      <td>0.527114</td>\n",
       "      <td>-1.260927</td>\n",
       "      <td>0.999626</td>\n",
       "      <td>0.626558</td>\n",
       "      <td>0.460378</td>\n",
       "      <td>-1.190309</td>\n",
       "      <td>0.999209</td>\n",
       "      <td>0.646057</td>\n",
       "      <td>...</td>\n",
       "      <td>-0.004979</td>\n",
       "      <td>0.0</td>\n",
       "      <td>0.674001</td>\n",
       "      <td>0.473491</td>\n",
       "      <td>0.016918</td>\n",
       "      <td>0.0</td>\n",
       "      <td>0.680035</td>\n",
       "      <td>0.468224</td>\n",
       "      <td>0.017673</td>\n",
       "      <td>0.0</td>\n",
       "    </tr>\n",
       "    <tr>\n",
       "      <th>452</th>\n",
       "      <td>Feeling Great</td>\n",
       "      <td>0.604862</td>\n",
       "      <td>0.527732</td>\n",
       "      <td>-1.259188</td>\n",
       "      <td>0.999640</td>\n",
       "      <td>0.641063</td>\n",
       "      <td>0.461086</td>\n",
       "      <td>-1.176225</td>\n",
       "      <td>0.999233</td>\n",
       "      <td>0.660456</td>\n",
       "      <td>...</td>\n",
       "      <td>-0.003118</td>\n",
       "      <td>0.0</td>\n",
       "      <td>0.688220</td>\n",
       "      <td>0.476450</td>\n",
       "      <td>0.020373</td>\n",
       "      <td>0.0</td>\n",
       "      <td>0.694156</td>\n",
       "      <td>0.471723</td>\n",
       "      <td>0.021121</td>\n",
       "      <td>0.0</td>\n",
       "    </tr>\n",
       "    <tr>\n",
       "      <th>453</th>\n",
       "      <td>Feeling Great</td>\n",
       "      <td>0.619044</td>\n",
       "      <td>0.528158</td>\n",
       "      <td>-1.213531</td>\n",
       "      <td>0.999647</td>\n",
       "      <td>0.653913</td>\n",
       "      <td>0.461850</td>\n",
       "      <td>-1.131890</td>\n",
       "      <td>0.999247</td>\n",
       "      <td>0.671103</td>\n",
       "      <td>...</td>\n",
       "      <td>-0.002726</td>\n",
       "      <td>0.0</td>\n",
       "      <td>0.698837</td>\n",
       "      <td>0.477533</td>\n",
       "      <td>0.023134</td>\n",
       "      <td>0.0</td>\n",
       "      <td>0.704604</td>\n",
       "      <td>0.472696</td>\n",
       "      <td>0.024162</td>\n",
       "      <td>0.0</td>\n",
       "    </tr>\n",
       "  </tbody>\n",
       "</table>\n",
       "<p>5 rows × 2005 columns</p>\n",
       "</div>"
      ],
      "text/plain": [
       "             class        x1        y1        z1        v1        x2  \\\n",
       "449  Feeling Great  0.571177  0.527555 -1.349964  0.999606  0.613878   \n",
       "450  Feeling Great  0.582205  0.527697 -1.325702  0.999609  0.622779   \n",
       "451  Feeling Great  0.586737  0.527114 -1.260927  0.999626  0.626558   \n",
       "452  Feeling Great  0.604862  0.527732 -1.259188  0.999640  0.641063   \n",
       "453  Feeling Great  0.619044  0.528158 -1.213531  0.999647  0.653913   \n",
       "\n",
       "           y2        z2        v2        x3  ...      z499  v499      x500  \\\n",
       "449  0.459346 -1.283326  0.999174  0.632936  ... -0.005416   0.0  0.662683   \n",
       "450  0.460364 -1.277012  0.999177  0.642141  ... -0.004919   0.0  0.674855   \n",
       "451  0.460378 -1.190309  0.999209  0.646057  ... -0.004979   0.0  0.674001   \n",
       "452  0.461086 -1.176225  0.999233  0.660456  ... -0.003118   0.0  0.688220   \n",
       "453  0.461850 -1.131890  0.999247  0.671103  ... -0.002726   0.0  0.698837   \n",
       "\n",
       "         y500      z500  v500      x501      y501      z501  v501  \n",
       "449  0.474247  0.016801   0.0  0.668626  0.469601  0.017567   0.0  \n",
       "450  0.475222  0.018543   0.0  0.680979  0.469739  0.019451   0.0  \n",
       "451  0.473491  0.016918   0.0  0.680035  0.468224  0.017673   0.0  \n",
       "452  0.476450  0.020373   0.0  0.694156  0.471723  0.021121   0.0  \n",
       "453  0.477533  0.023134   0.0  0.704604  0.472696  0.024162   0.0  \n",
       "\n",
       "[5 rows x 2005 columns]"
      ]
     },
     "execution_count": 118,
     "metadata": {},
     "output_type": "execute_result"
    }
   ],
   "source": [
    "df.tail()"
   ]
  },
  {
   "cell_type": "markdown",
   "id": "6832ede5",
   "metadata": {},
   "source": [
    "# Creating Model"
   ]
  },
  {
   "cell_type": "markdown",
   "id": "e3e8028a",
   "metadata": {},
   "source": [
    "## Features and Target Selection"
   ]
  },
  {
   "cell_type": "markdown",
   "id": "f0cae2ac",
   "metadata": {},
   "source": [
    "Features will be x, y and z values AND The Target Variable is 'Class'"
   ]
  },
  {
   "cell_type": "code",
   "execution_count": 119,
   "id": "943ae6c8",
   "metadata": {},
   "outputs": [],
   "source": [
    " # features\n",
    "X = df.drop('class', axis=1)\n",
    "\n",
    "# target value\n",
    "y = df['class'] "
   ]
  },
  {
   "cell_type": "markdown",
   "id": "deaefc4d",
   "metadata": {},
   "source": [
    "## Create Train and Test Partitions"
   ]
  },
  {
   "cell_type": "code",
   "execution_count": 120,
   "id": "df7cf70a",
   "metadata": {},
   "outputs": [],
   "source": [
    "X_train, X_test, y_train, y_test = train_test_split(X, y, test_size=0.3, random_state=1234)"
   ]
  },
  {
   "cell_type": "code",
   "execution_count": 121,
   "id": "8cc9984e",
   "metadata": {},
   "outputs": [
    {
     "name": "stdout",
     "output_type": "stream",
     "text": [
      "Number of Values in X_Train = 317\n",
      "Number of Values in X_Test = 137\n",
      "Number of Values in Y_Train = 317\n",
      "Number of Values in Y_Test = 137\n"
     ]
    }
   ],
   "source": [
    "print(f\"Number of Values in X_Train = {len(X_train)}\")\n",
    "print(f\"Number of Values in X_Test = {len(X_test)}\")\n",
    "print(f\"Number of Values in Y_Train = {len(y_train)}\")\n",
    "print(f\"Number of Values in Y_Test = {len(y_test)}\")\n"
   ]
  },
  {
   "cell_type": "markdown",
   "id": "33c8b12f",
   "metadata": {},
   "source": [
    "## Train The Model"
   ]
  },
  {
   "cell_type": "code",
   "execution_count": 122,
   "id": "2686d13b",
   "metadata": {},
   "outputs": [],
   "source": [
    "pipelines = {\n",
    "    'lr':make_pipeline(StandardScaler(), LogisticRegression()),\n",
    "    'rc':make_pipeline(StandardScaler(), RidgeClassifier()),\n",
    "    'rf':make_pipeline(StandardScaler(), RandomForestClassifier()),\n",
    "    'gb':make_pipeline(StandardScaler(), GradientBoostingClassifier()),\n",
    "}"
   ]
  },
  {
   "cell_type": "markdown",
   "id": "fa9de0bc",
   "metadata": {},
   "source": [
    "A Pipeline Overview"
   ]
  },
  {
   "cell_type": "code",
   "execution_count": 123,
   "id": "57f0432c",
   "metadata": {
    "scrolled": true
   },
   "outputs": [
    {
     "data": {
      "text/html": [
       "<style>#sk-container-id-16 {color: black;background-color: white;}#sk-container-id-16 pre{padding: 0;}#sk-container-id-16 div.sk-toggleable {background-color: white;}#sk-container-id-16 label.sk-toggleable__label {cursor: pointer;display: block;width: 100%;margin-bottom: 0;padding: 0.3em;box-sizing: border-box;text-align: center;}#sk-container-id-16 label.sk-toggleable__label-arrow:before {content: \"▸\";float: left;margin-right: 0.25em;color: #696969;}#sk-container-id-16 label.sk-toggleable__label-arrow:hover:before {color: black;}#sk-container-id-16 div.sk-estimator:hover label.sk-toggleable__label-arrow:before {color: black;}#sk-container-id-16 div.sk-toggleable__content {max-height: 0;max-width: 0;overflow: hidden;text-align: left;background-color: #f0f8ff;}#sk-container-id-16 div.sk-toggleable__content pre {margin: 0.2em;color: black;border-radius: 0.25em;background-color: #f0f8ff;}#sk-container-id-16 input.sk-toggleable__control:checked~div.sk-toggleable__content {max-height: 200px;max-width: 100%;overflow: auto;}#sk-container-id-16 input.sk-toggleable__control:checked~label.sk-toggleable__label-arrow:before {content: \"▾\";}#sk-container-id-16 div.sk-estimator input.sk-toggleable__control:checked~label.sk-toggleable__label {background-color: #d4ebff;}#sk-container-id-16 div.sk-label input.sk-toggleable__control:checked~label.sk-toggleable__label {background-color: #d4ebff;}#sk-container-id-16 input.sk-hidden--visually {border: 0;clip: rect(1px 1px 1px 1px);clip: rect(1px, 1px, 1px, 1px);height: 1px;margin: -1px;overflow: hidden;padding: 0;position: absolute;width: 1px;}#sk-container-id-16 div.sk-estimator {font-family: monospace;background-color: #f0f8ff;border: 1px dotted black;border-radius: 0.25em;box-sizing: border-box;margin-bottom: 0.5em;}#sk-container-id-16 div.sk-estimator:hover {background-color: #d4ebff;}#sk-container-id-16 div.sk-parallel-item::after {content: \"\";width: 100%;border-bottom: 1px solid gray;flex-grow: 1;}#sk-container-id-16 div.sk-label:hover label.sk-toggleable__label {background-color: #d4ebff;}#sk-container-id-16 div.sk-serial::before {content: \"\";position: absolute;border-left: 1px solid gray;box-sizing: border-box;top: 0;bottom: 0;left: 50%;z-index: 0;}#sk-container-id-16 div.sk-serial {display: flex;flex-direction: column;align-items: center;background-color: white;padding-right: 0.2em;padding-left: 0.2em;position: relative;}#sk-container-id-16 div.sk-item {position: relative;z-index: 1;}#sk-container-id-16 div.sk-parallel {display: flex;align-items: stretch;justify-content: center;background-color: white;position: relative;}#sk-container-id-16 div.sk-item::before, #sk-container-id-16 div.sk-parallel-item::before {content: \"\";position: absolute;border-left: 1px solid gray;box-sizing: border-box;top: 0;bottom: 0;left: 50%;z-index: -1;}#sk-container-id-16 div.sk-parallel-item {display: flex;flex-direction: column;z-index: 1;position: relative;background-color: white;}#sk-container-id-16 div.sk-parallel-item:first-child::after {align-self: flex-end;width: 50%;}#sk-container-id-16 div.sk-parallel-item:last-child::after {align-self: flex-start;width: 50%;}#sk-container-id-16 div.sk-parallel-item:only-child::after {width: 0;}#sk-container-id-16 div.sk-dashed-wrapped {border: 1px dashed gray;margin: 0 0.4em 0.5em 0.4em;box-sizing: border-box;padding-bottom: 0.4em;background-color: white;}#sk-container-id-16 div.sk-label label {font-family: monospace;font-weight: bold;display: inline-block;line-height: 1.2em;}#sk-container-id-16 div.sk-label-container {text-align: center;}#sk-container-id-16 div.sk-container {/* jupyter's `normalize.less` sets `[hidden] { display: none; }` but bootstrap.min.css set `[hidden] { display: none !important; }` so we also need the `!important` here to be able to override the default hidden behavior on the sphinx rendered scikit-learn.org. See: https://github.com/scikit-learn/scikit-learn/issues/21755 */display: inline-block !important;position: relative;}#sk-container-id-16 div.sk-text-repr-fallback {display: none;}</style><div id=\"sk-container-id-16\" class=\"sk-top-container\"><div class=\"sk-text-repr-fallback\"><pre>Pipeline(steps=[(&#x27;standardscaler&#x27;, StandardScaler()),\n",
       "                (&#x27;logisticregression&#x27;, LogisticRegression())])</pre><b>In a Jupyter environment, please rerun this cell to show the HTML representation or trust the notebook. <br />On GitHub, the HTML representation is unable to render, please try loading this page with nbviewer.org.</b></div><div class=\"sk-container\" hidden><div class=\"sk-item sk-dashed-wrapped\"><div class=\"sk-label-container\"><div class=\"sk-label sk-toggleable\"><input class=\"sk-toggleable__control sk-hidden--visually\" id=\"sk-estimator-id-46\" type=\"checkbox\" ><label for=\"sk-estimator-id-46\" class=\"sk-toggleable__label sk-toggleable__label-arrow\">Pipeline</label><div class=\"sk-toggleable__content\"><pre>Pipeline(steps=[(&#x27;standardscaler&#x27;, StandardScaler()),\n",
       "                (&#x27;logisticregression&#x27;, LogisticRegression())])</pre></div></div></div><div class=\"sk-serial\"><div class=\"sk-item\"><div class=\"sk-estimator sk-toggleable\"><input class=\"sk-toggleable__control sk-hidden--visually\" id=\"sk-estimator-id-47\" type=\"checkbox\" ><label for=\"sk-estimator-id-47\" class=\"sk-toggleable__label sk-toggleable__label-arrow\">StandardScaler</label><div class=\"sk-toggleable__content\"><pre>StandardScaler()</pre></div></div></div><div class=\"sk-item\"><div class=\"sk-estimator sk-toggleable\"><input class=\"sk-toggleable__control sk-hidden--visually\" id=\"sk-estimator-id-48\" type=\"checkbox\" ><label for=\"sk-estimator-id-48\" class=\"sk-toggleable__label sk-toggleable__label-arrow\">LogisticRegression</label><div class=\"sk-toggleable__content\"><pre>LogisticRegression()</pre></div></div></div></div></div></div></div>"
      ],
      "text/plain": [
       "Pipeline(steps=[('standardscaler', StandardScaler()),\n",
       "                ('logisticregression', LogisticRegression())])"
      ]
     },
     "execution_count": 123,
     "metadata": {},
     "output_type": "execute_result"
    }
   ],
   "source": [
    "list(pipelines.values())[0]"
   ]
  },
  {
   "cell_type": "code",
   "execution_count": 124,
   "id": "1ca2106c",
   "metadata": {},
   "outputs": [
    {
     "name": "stderr",
     "output_type": "stream",
     "text": [
      "C:\\Users\\Gaurav 2105125\\anaconda3\\Lib\\site-packages\\sklearn\\linear_model\\_logistic.py:458: ConvergenceWarning: lbfgs failed to converge (status=1):\n",
      "STOP: TOTAL NO. of ITERATIONS REACHED LIMIT.\n",
      "\n",
      "Increase the number of iterations (max_iter) or scale the data as shown in:\n",
      "    https://scikit-learn.org/stable/modules/preprocessing.html\n",
      "Please also refer to the documentation for alternative solver options:\n",
      "    https://scikit-learn.org/stable/modules/linear_model.html#logistic-regression\n",
      "  n_iter_i = _check_optimize_result(\n"
     ]
    }
   ],
   "source": [
    "fit_models = {}\n",
    "for algo, pipeline in pipelines.items():\n",
    "    model = pipeline.fit(X_train, y_train)\n",
    "    fit_models[algo] = model"
   ]
  },
  {
   "cell_type": "code",
   "execution_count": 125,
   "id": "04f4c71b",
   "metadata": {},
   "outputs": [
    {
     "data": {
      "text/plain": [
       "{'lr': Pipeline(steps=[('standardscaler', StandardScaler()),\n",
       "                 ('logisticregression', LogisticRegression())]),\n",
       " 'rc': Pipeline(steps=[('standardscaler', StandardScaler()),\n",
       "                 ('ridgeclassifier', RidgeClassifier())]),\n",
       " 'rf': Pipeline(steps=[('standardscaler', StandardScaler()),\n",
       "                 ('randomforestclassifier', RandomForestClassifier())]),\n",
       " 'gb': Pipeline(steps=[('standardscaler', StandardScaler()),\n",
       "                 ('gradientboostingclassifier', GradientBoostingClassifier())])}"
      ]
     },
     "execution_count": 125,
     "metadata": {},
     "output_type": "execute_result"
    }
   ],
   "source": [
    "fit_models"
   ]
  },
  {
   "cell_type": "markdown",
   "id": "cfccffcc",
   "metadata": {},
   "source": [
    "## Prediction"
   ]
  },
  {
   "cell_type": "markdown",
   "id": "892aa216",
   "metadata": {},
   "source": [
    "Change The Model value to change btw different predictions of different models\n"
   ]
  },
  {
   "cell_type": "code",
   "execution_count": 126,
   "id": "e57b638c",
   "metadata": {},
   "outputs": [
    {
     "data": {
      "text/plain": [
       "array(['Feeling Great', 'Happy', 'Feeling Great', 'Sad', 'Angry',\n",
       "       'Feeling Great', 'Happy', 'Angry', 'Happy', 'Happy',\n",
       "       'Feeling Great', 'Happy', 'Sad', 'Sad', 'Angry', 'Happy', 'Happy',\n",
       "       'Happy', 'Feeling Great', 'Happy', 'Happy', 'Sad', 'Angry', 'Sad',\n",
       "       'Sad', 'Feeling Great', 'Angry', 'Angry', 'Sad', 'Happy',\n",
       "       'Feeling Great', 'Feeling Great', 'Feeling Great', 'Feeling Great',\n",
       "       'Sad', 'Feeling Great', 'Happy', 'Sad', 'Sad', 'Angry', 'Angry',\n",
       "       'Angry', 'Happy', 'Feeling Great', 'Angry', 'Angry', 'Angry',\n",
       "       'Happy', 'Feeling Great', 'Happy', 'Angry', 'Feeling Great',\n",
       "       'Happy', 'Happy', 'Angry', 'Happy', 'Happy', 'Happy',\n",
       "       'Feeling Great', 'Feeling Great', 'Angry', 'Angry', 'Happy',\n",
       "       'Happy', 'Sad', 'Sad', 'Sad', 'Feeling Great', 'Feeling Great',\n",
       "       'Feeling Great', 'Happy', 'Angry', 'Feeling Great', 'Sad', 'Happy',\n",
       "       'Sad', 'Happy', 'Happy', 'Feeling Great', 'Sad', 'Angry', 'Happy',\n",
       "       'Happy', 'Sad', 'Happy', 'Happy', 'Sad', 'Happy', 'Happy', 'Sad',\n",
       "       'Sad', 'Feeling Great', 'Feeling Great', 'Feeling Great', 'Sad',\n",
       "       'Angry', 'Feeling Great', 'Angry', 'Angry', 'Feeling Great',\n",
       "       'Happy', 'Happy', 'Angry', 'Feeling Great', 'Feeling Great', 'Sad',\n",
       "       'Feeling Great', 'Feeling Great', 'Happy', 'Sad', 'Sad', 'Sad',\n",
       "       'Happy', 'Happy', 'Feeling Great', 'Feeling Great', 'Happy',\n",
       "       'Angry', 'Feeling Great', 'Happy', 'Happy', 'Angry', 'Angry',\n",
       "       'Sad', 'Sad', 'Angry', 'Happy', 'Feeling Great', 'Feeling Great',\n",
       "       'Happy', 'Sad', 'Angry', 'Sad', 'Happy', 'Sad', 'Feeling Great',\n",
       "       'Happy'], dtype='<U13')"
      ]
     },
     "execution_count": 126,
     "metadata": {},
     "output_type": "execute_result"
    }
   ],
   "source": [
    "fit_models['rc'].predict(X_test)"
   ]
  },
  {
   "cell_type": "markdown",
   "id": "45f234ba",
   "metadata": {},
   "source": [
    "## Evaluation"
   ]
  },
  {
   "cell_type": "markdown",
   "id": "4c9d219e",
   "metadata": {},
   "source": [
    "### Evaluating accuracy score for each model"
   ]
  },
  {
   "cell_type": "code",
   "execution_count": 127,
   "id": "bf1f7eb4",
   "metadata": {},
   "outputs": [
    {
     "name": "stdout",
     "output_type": "stream",
     "text": [
      "lr 1.0\n",
      "rc 1.0\n",
      "rf 1.0\n",
      "gb 1.0\n"
     ]
    }
   ],
   "source": [
    "for algo, model in fit_models.items():\n",
    "    yhat = model.predict(X_test)\n",
    "    print(algo, accuracy_score(y_test, yhat))"
   ]
  },
  {
   "cell_type": "markdown",
   "id": "4c823cf2",
   "metadata": {},
   "source": [
    "We got nearly 100 % accuracy on all of the models"
   ]
  },
  {
   "cell_type": "markdown",
   "id": "dc3a265e",
   "metadata": {},
   "source": [
    "To add variablility and to remove overfitting we can add more data to the coords dataset"
   ]
  },
  {
   "cell_type": "markdown",
   "id": "20768808",
   "metadata": {},
   "source": [
    "## Create the model as a binary File"
   ]
  },
  {
   "cell_type": "code",
   "execution_count": 128,
   "id": "37d631e5",
   "metadata": {},
   "outputs": [],
   "source": [
    "with open('Pose_estimation.pkl', 'wb') as f:\n",
    "    pickle.dump(fit_models['rf'], f)"
   ]
  },
  {
   "cell_type": "markdown",
   "id": "87441b5e",
   "metadata": {},
   "source": [
    "We used Random FOrest Classifier Model as the model for predictions"
   ]
  }
 ],
 "metadata": {
  "kernelspec": {
   "display_name": "Python 3 (ipykernel)",
   "language": "python",
   "name": "python3"
  },
  "language_info": {
   "codemirror_mode": {
    "name": "ipython",
    "version": 3
   },
   "file_extension": ".py",
   "mimetype": "text/x-python",
   "name": "python",
   "nbconvert_exporter": "python",
   "pygments_lexer": "ipython3",
   "version": "3.11.7"
  }
 },
 "nbformat": 4,
 "nbformat_minor": 5
}
