{
 "cells": [
  {
   "cell_type": "markdown",
   "id": "2716b7f8",
   "metadata": {},
   "source": [
    "# Importing All Required Libraries and packages"
   ]
  },
  {
   "cell_type": "code",
   "execution_count": 1,
   "id": "fdb95a47",
   "metadata": {},
   "outputs": [],
   "source": [
    "import mediapipe as mp\n",
    "import cv2\n",
    "import csv\n",
    "import os\n",
    "import numpy as np"
   ]
  },
  {
   "cell_type": "markdown",
   "id": "1e87843f",
   "metadata": {},
   "source": [
    "### importing drawing utilities and Mediapipe Solutions"
   ]
  },
  {
   "cell_type": "code",
   "execution_count": 2,
   "id": "b282c05e",
   "metadata": {},
   "outputs": [],
   "source": [
    "mp_drawing = mp.solutions.drawing_utils # Drawing helpers / helps with drawing landmarks\n",
    "mp_holistic = mp.solutions.holistic # Mediapipe Solutions / Gives Landmark Detection Models"
   ]
  },
  {
   "cell_type": "markdown",
   "id": "aedb82d5",
   "metadata": {},
   "source": [
    " # Making Detections using Webcam"
   ]
  },
  {
   "cell_type": "code",
   "execution_count": 3,
   "id": "62d42a7b",
   "metadata": {},
   "outputs": [],
   "source": [
    "#----------------------------------------connecting to webcam--------------------------------------------------\n",
    "cap = cv2.VideoCapture(0)\n",
    "\n",
    "\n",
    "\n",
    "#------------------------------------- Initiate holistic model-------------------------------------------------\n",
    "with mp_holistic.Holistic(min_detection_confidence=0.5, min_tracking_confidence=0.5) as holistic:\n",
    "    \n",
    "    while cap.isOpened():          # Looping through each Frame that is coming through webcam\n",
    "        \n",
    "        ret, frame = cap.read()    # Keeping image from webcam and keeping it into this variable `frame`\n",
    "        \n",
    "        \n",
    "        \n",
    "        \n",
    "        #---------------------- Recolor Feed of Mediapipe-------------------------------------------\n",
    "        image = cv2.cvtColor(frame, cv2.COLOR_BGR2RGB)   #converting input frame from the BGR to the RGB.\n",
    "        image.flags.writeable = False                    # prevent accidental modification of image data\n",
    "        \n",
    "        \n",
    "        results = holistic.process(image)\n",
    "        # passes the preprocessed image to the process method of the holistic object.\n",
    "        # The process methodreturns a results object containing the detected landmarks and other information.\n",
    "        \n",
    "         \n",
    "        #----------------- Recolor image back to BGR for rendering-----------------------------------\n",
    "        image.flags.writeable = True                     # allowing modifications to the image data.\n",
    "        image = cv2.cvtColor(image, cv2.COLOR_RGB2BGR)   # converting input frame from the RGB to the BGR.\n",
    "        \n",
    "        \n",
    "        #-----------------------------------------Drawing Landmarks-------------------------------\n",
    "        # 1. Draw face landmarks\n",
    "        mp_drawing.draw_landmarks(image, results.face_landmarks, mp_holistic.FACEMESH_CONTOURS, \n",
    "                                 mp_drawing.DrawingSpec(color=(80,110,10), thickness=1, circle_radius=1),\n",
    "                                 mp_drawing.DrawingSpec(color=(80,256,121), thickness=1, circle_radius=1)\n",
    "                                 )\n",
    "        \n",
    "        # 2. Right hand\n",
    "        mp_drawing.draw_landmarks(image, results.right_hand_landmarks, mp_holistic.HAND_CONNECTIONS, \n",
    "                                 mp_drawing.DrawingSpec(color=(80,22,10), thickness=2, circle_radius=4),\n",
    "                                 mp_drawing.DrawingSpec(color=(80,44,121), thickness=2, circle_radius=2)\n",
    "                                 )\n",
    "\n",
    "        # 3. Left Hand\n",
    "        mp_drawing.draw_landmarks(image, results.left_hand_landmarks, mp_holistic.HAND_CONNECTIONS, \n",
    "                                 mp_drawing.DrawingSpec(color=(121,22,76), thickness=2, circle_radius=4),\n",
    "                                 mp_drawing.DrawingSpec(color=(121,44,250), thickness=2, circle_radius=2)\n",
    "                                 )\n",
    "\n",
    "        # 4. Pose Detections\n",
    "        mp_drawing.draw_landmarks(image, results.pose_landmarks, mp_holistic.POSE_CONNECTIONS, \n",
    "                                 mp_drawing.DrawingSpec(color=(245,117,66), thickness=2, circle_radius=4),\n",
    "                                 mp_drawing.DrawingSpec(color=(245,66,230), thickness=2, circle_radius=2)\n",
    "                                 )\n",
    "                        \n",
    "        cv2.imshow('Raw Webcam Feed', image)\n",
    "\n",
    "        \n",
    "        #--------------------------------------------------Closing WebCAM ----------------------------------------\n",
    "        if cv2.waitKey(10) & 0xFF == ord('q'):\n",
    "            break\n",
    "\n",
    "cap.release()\n",
    "cv2.destroyAllWindows()"
   ]
  },
  {
   "cell_type": "markdown",
   "id": "5e508a27",
   "metadata": {},
   "source": [
    "### Taking a look at different landmarks "
   ]
  },
  {
   "cell_type": "code",
   "execution_count": 56,
   "id": "dbe36a0f",
   "metadata": {
    "scrolled": true
   },
   "outputs": [
    {
     "data": {
      "text/plain": [
       "x: 0.54424024\n",
       "y: 0.72569263\n",
       "z: 0.008785167"
      ]
     },
     "execution_count": 56,
     "metadata": {},
     "output_type": "execute_result"
    }
   ],
   "source": [
    "results.face_landmarks.landmark[0]"
   ]
  },
  {
   "cell_type": "markdown",
   "id": "926d978d",
   "metadata": {},
   "source": [
    "### What do these landmarks mean?\n",
    "<img src=\"https://i.imgur.com/8bForKY.png\">\n",
    "<img src=\"https://i.imgur.com/AzKNp7A.png\">"
   ]
  },
  {
   "cell_type": "markdown",
   "id": "84dfe269",
   "metadata": {},
   "source": [
    "# Capturing Landmarks and exporting them"
   ]
  },
  {
   "cell_type": "markdown",
   "id": "e2d97c6f",
   "metadata": {},
   "source": [
    "### Number of Landmarks we have"
   ]
  },
  {
   "cell_type": "code",
   "execution_count": 57,
   "id": "682dbbce",
   "metadata": {},
   "outputs": [
    {
     "data": {
      "text/plain": [
       "468"
      ]
     },
     "execution_count": 57,
     "metadata": {},
     "output_type": "execute_result"
    }
   ],
   "source": [
    "len(results.face_landmarks.landmark)"
   ]
  },
  {
   "cell_type": "code",
   "execution_count": 58,
   "id": "4401bd9b",
   "metadata": {},
   "outputs": [
    {
     "data": {
      "text/plain": [
       "33"
      ]
     },
     "execution_count": 58,
     "metadata": {},
     "output_type": "execute_result"
    }
   ],
   "source": [
    "len(results.pose_landmarks.landmark)"
   ]
  },
  {
   "cell_type": "code",
   "execution_count": 59,
   "id": "965e1371",
   "metadata": {},
   "outputs": [
    {
     "data": {
      "text/plain": [
       "501"
      ]
     },
     "execution_count": 59,
     "metadata": {},
     "output_type": "execute_result"
    }
   ],
   "source": [
    "# Calculate Number of Coordinates we have to loop through\n",
    "num_coords = len(results.face_landmarks.landmark) + len(results.pose_landmarks.landmark)\n",
    "num_coords"
   ]
  },
  {
   "cell_type": "code",
   "execution_count": 60,
   "id": "a4b30208",
   "metadata": {},
   "outputs": [],
   "source": [
    "# Making COlumns \n",
    "# total columns are 501 \n",
    "landmarks = ['class']\n",
    "for val in range(1, num_coords+1):\n",
    "    landmarks += ['x{}'.format(val), 'y{}'.format(val), 'z{}'.format(val), 'v{}'.format(val)]"
   ]
  },
  {
   "cell_type": "code",
   "execution_count": 61,
   "id": "6a58a041",
   "metadata": {},
   "outputs": [
    {
     "data": {
      "text/plain": [
       "['x1', 'y1', 'z1', 'v1', 'x2', 'y2', 'z2', 'v2', 'x3', 'y3', 'z3', 'v3']"
      ]
     },
     "execution_count": 61,
     "metadata": {},
     "output_type": "execute_result"
    }
   ],
   "source": [
    "landmarks[1:13]"
   ]
  },
  {
   "cell_type": "code",
   "execution_count": 72,
   "id": "a9263975",
   "metadata": {},
   "outputs": [],
   "source": [
    "# Creating a csv file\n",
    "with open('coords.csv', mode='w', newline='') as f:\n",
    "    csv_writer = csv.writer(f, delimiter=',', quotechar='\"', quoting=csv.QUOTE_MINIMAL)\n",
    "    csv_writer.writerow(landmarks)"
   ]
  },
  {
   "cell_type": "markdown",
   "id": "94d516a9",
   "metadata": {},
   "source": [
    "## Capturing Happy Face"
   ]
  },
  {
   "cell_type": "code",
   "execution_count": 73,
   "id": "dc94256d",
   "metadata": {},
   "outputs": [],
   "source": [
    "class_name = \"Happy\""
   ]
  },
  {
   "cell_type": "code",
   "execution_count": 74,
   "id": "6c85d75e",
   "metadata": {},
   "outputs": [],
   "source": [
    "#----------------------------------------connecting to webcam--------------------------------------------------\n",
    "cap = cv2.VideoCapture(0)\n",
    "\n",
    "\n",
    "\n",
    "#------------------------------------- Initiate holistic model-------------------------------------------------\n",
    "with mp_holistic.Holistic(min_detection_confidence=0.5, min_tracking_confidence=0.5) as holistic:\n",
    "    \n",
    "    while cap.isOpened():          # Looping through each Frame that is coming through webcam\n",
    "        \n",
    "        ret, frame = cap.read()    # Keeping image from webcam and keeping it into this variable `frame`\n",
    "        \n",
    "        \n",
    "        \n",
    "        \n",
    "        #---------------------- Recolor Feed of Mediapipe-------------------------------------------\n",
    "        image = cv2.cvtColor(frame, cv2.COLOR_BGR2RGB)   #converting input frame from the BGR to the RGB.\n",
    "        image.flags.writeable = False                    # prevent accidental modification of image data\n",
    "        \n",
    "        \n",
    "        results = holistic.process(image)\n",
    "        # passes the preprocessed image to the process method of the holistic object.\n",
    "        # The process methodreturns a results object containing the detected landmarks and other information.\n",
    "        \n",
    "         \n",
    "        #----------------- Recolor image back to BGR for rendering-----------------------------------\n",
    "        image.flags.writeable = True                     # allowing modifications to the image data.\n",
    "        image = cv2.cvtColor(image, cv2.COLOR_RGB2BGR)   # converting input frame from the RGB to the BGR.\n",
    "        \n",
    "        \n",
    "        #-----------------------------------------Drawing Landmarks-------------------------------\n",
    "        # 1. Draw face landmarks\n",
    "        mp_drawing.draw_landmarks(image, results.face_landmarks, mp_holistic.FACEMESH_CONTOURS, \n",
    "                                 mp_drawing.DrawingSpec(color=(80,110,10), thickness=1, circle_radius=1),\n",
    "                                 mp_drawing.DrawingSpec(color=(80,256,121), thickness=1, circle_radius=1)\n",
    "                                 )\n",
    "        \n",
    "        # 2. Right hand\n",
    "        mp_drawing.draw_landmarks(image, results.right_hand_landmarks, mp_holistic.HAND_CONNECTIONS, \n",
    "                                 mp_drawing.DrawingSpec(color=(80,22,10), thickness=2, circle_radius=4),\n",
    "                                 mp_drawing.DrawingSpec(color=(80,44,121), thickness=2, circle_radius=2)\n",
    "                                 )\n",
    "\n",
    "        # 3. Left Hand\n",
    "        mp_drawing.draw_landmarks(image, results.left_hand_landmarks, mp_holistic.HAND_CONNECTIONS, \n",
    "                                 mp_drawing.DrawingSpec(color=(121,22,76), thickness=2, circle_radius=4),\n",
    "                                 mp_drawing.DrawingSpec(color=(121,44,250), thickness=2, circle_radius=2)\n",
    "                                 )\n",
    "\n",
    "        # 4. Pose Detections\n",
    "        mp_drawing.draw_landmarks(image, results.pose_landmarks, mp_holistic.POSE_CONNECTIONS, \n",
    "                                 mp_drawing.DrawingSpec(color=(245,117,66), thickness=2, circle_radius=4),\n",
    "                                 mp_drawing.DrawingSpec(color=(245,66,230), thickness=2, circle_radius=2)\n",
    "                                 )\n",
    "        \n",
    "        \n",
    "#-------------------------------------------------------------------------------------------------------------------------\n",
    "#------------------------------------------------------------------------------------------------------------------------\n",
    "#------------------------------------------------------------------------------------------------------------------------\n",
    "#-------------------------------------------------------------------------------------------------------------------------\n",
    "#---------------------------------------------------------------------------------------------------------        \n",
    "#-------------------------------------------------------------------------------------------------------------------------\n",
    "#------------------------------------------------------------------------------------------------------------------------\n",
    "#------------------------------------------------------------------------------------------------------------------------\n",
    "#-------------------------------------------------------------------------------------------------------------------------\n",
    "#--------------------------------------------------- Export coordinates------------------------------------------------------\n",
    "        try:\n",
    "            # Extract Pose landmarks\n",
    "            pose = results.pose_landmarks.landmark\n",
    "            pose_row = list(np.array([[landmark.x, landmark.y, landmark.z, landmark.visibility] for landmark in pose]).flatten())\n",
    "            \n",
    "            # Extract Face landmarks\n",
    "            face = results.face_landmarks.landmark\n",
    "            face_row = list(np.array([[landmark.x, landmark.y, landmark.z, landmark.visibility] for landmark in face]).flatten())\n",
    "            \n",
    "            # Concate rows\n",
    "            row = pose_row+face_row\n",
    "            \n",
    "            # Append class name \n",
    "            row.insert(0, class_name)\n",
    "            \n",
    "            # Export to CSV\n",
    "            with open('coords.csv', mode='a', newline='') as f:\n",
    "                csv_writer = csv.writer(f, delimiter=',', quotechar='\"', quoting=csv.QUOTE_MINIMAL)\n",
    "                csv_writer.writerow(row) \n",
    "            \n",
    "        except:\n",
    "            pass\n",
    "                        \n",
    "        cv2.imshow('Raw Webcam Feed', image)\n",
    "\n",
    "        \n",
    "        #--------------------------------------------------Closing WebCAM ----------------------------------------\n",
    "        if cv2.waitKey(10) & 0xFF == ord('q'):\n",
    "            break\n",
    "\n",
    "cap.release()\n",
    "cv2.destroyAllWindows()"
   ]
  },
  {
   "cell_type": "markdown",
   "id": "37c219b4",
   "metadata": {},
   "source": [
    "### Capturing Sad Face"
   ]
  },
  {
   "cell_type": "code",
   "execution_count": 75,
   "id": "1a8108b8",
   "metadata": {},
   "outputs": [],
   "source": [
    "class_name = \"Sad\""
   ]
  },
  {
   "cell_type": "code",
   "execution_count": 76,
   "id": "019eccc7",
   "metadata": {},
   "outputs": [],
   "source": [
    "#----------------------------------------connecting to webcam--------------------------------------------------\n",
    "cap = cv2.VideoCapture(0)\n",
    "\n",
    "\n",
    "\n",
    "#------------------------------------- Initiate holistic model-------------------------------------------------\n",
    "with mp_holistic.Holistic(min_detection_confidence=0.5, min_tracking_confidence=0.5) as holistic:\n",
    "    \n",
    "    while cap.isOpened():          # Looping through each Frame that is coming through webcam\n",
    "        \n",
    "        ret, frame = cap.read()    # Keeping image from webcam and keeping it into this variable `frame`\n",
    "        \n",
    "        \n",
    "        \n",
    "        \n",
    "        #---------------------- Recolor Feed of Mediapipe-------------------------------------------\n",
    "        image = cv2.cvtColor(frame, cv2.COLOR_BGR2RGB)   #converting input frame from the BGR to the RGB.\n",
    "        image.flags.writeable = False                    # prevent accidental modification of image data\n",
    "        \n",
    "        \n",
    "        results = holistic.process(image)\n",
    "        # passes the preprocessed image to the process method of the holistic object.\n",
    "        # The process methodreturns a results object containing the detected landmarks and other information.\n",
    "        \n",
    "         \n",
    "        #----------------- Recolor image back to BGR for rendering-----------------------------------\n",
    "        image.flags.writeable = True                     # allowing modifications to the image data.\n",
    "        image = cv2.cvtColor(image, cv2.COLOR_RGB2BGR)   # converting input frame from the RGB to the BGR.\n",
    "        \n",
    "        \n",
    "        #-----------------------------------------Drawing Landmarks-------------------------------\n",
    "        # 1. Draw face landmarks\n",
    "        mp_drawing.draw_landmarks(image, results.face_landmarks, mp_holistic.FACEMESH_CONTOURS, \n",
    "                                 mp_drawing.DrawingSpec(color=(80,110,10), thickness=1, circle_radius=1),\n",
    "                                 mp_drawing.DrawingSpec(color=(80,256,121), thickness=1, circle_radius=1)\n",
    "                                 )\n",
    "        \n",
    "        # 2. Right hand\n",
    "        mp_drawing.draw_landmarks(image, results.right_hand_landmarks, mp_holistic.HAND_CONNECTIONS, \n",
    "                                 mp_drawing.DrawingSpec(color=(80,22,10), thickness=2, circle_radius=4),\n",
    "                                 mp_drawing.DrawingSpec(color=(80,44,121), thickness=2, circle_radius=2)\n",
    "                                 )\n",
    "\n",
    "        # 3. Left Hand\n",
    "        mp_drawing.draw_landmarks(image, results.left_hand_landmarks, mp_holistic.HAND_CONNECTIONS, \n",
    "                                 mp_drawing.DrawingSpec(color=(121,22,76), thickness=2, circle_radius=4),\n",
    "                                 mp_drawing.DrawingSpec(color=(121,44,250), thickness=2, circle_radius=2)\n",
    "                                 )\n",
    "\n",
    "        # 4. Pose Detections\n",
    "        mp_drawing.draw_landmarks(image, results.pose_landmarks, mp_holistic.POSE_CONNECTIONS, \n",
    "                                 mp_drawing.DrawingSpec(color=(245,117,66), thickness=2, circle_radius=4),\n",
    "                                 mp_drawing.DrawingSpec(color=(245,66,230), thickness=2, circle_radius=2)\n",
    "                                 )\n",
    "#-------------------------------------------------------------------------------------------------------------------------\n",
    "#------------------------------------------------------------------------------------------------------------------------\n",
    "#------------------------------------------------------------------------------------------------------------------------\n",
    "#-------------------------------------------------------------------------------------------------------------------------\n",
    "#---------------------------------------------------------------------------------------------------------        \n",
    "#-------------------------------------------------------------------------------------------------------------------------\n",
    "#------------------------------------------------------------------------------------------------------------------------\n",
    "#------------------------------------------------------------------------------------------------------------------------\n",
    "#-------------------------------------------------------------------------------------------------------------------------\n",
    "\n",
    "        \n",
    "        \n",
    "        #------------------------------- Export coordinates------------------------------------------------------\n",
    "        try:\n",
    "            # Extract Pose landmarks\n",
    "            pose = results.pose_landmarks.landmark\n",
    "            pose_row = list(np.array([[landmark.x, landmark.y, landmark.z, landmark.visibility] for landmark in pose]).flatten())\n",
    "            \n",
    "            # Extract Face landmarks\n",
    "            face = results.face_landmarks.landmark\n",
    "            face_row = list(np.array([[landmark.x, landmark.y, landmark.z, landmark.visibility] for landmark in face]).flatten())\n",
    "            \n",
    "            # Concate rows\n",
    "            row = pose_row+face_row\n",
    "            \n",
    "            # Append class name \n",
    "            row.insert(0, class_name)\n",
    "            \n",
    "            # Export to CSV\n",
    "            with open('coords.csv', mode='a', newline='') as f:\n",
    "                csv_writer = csv.writer(f, delimiter=',', quotechar='\"', quoting=csv.QUOTE_MINIMAL)\n",
    "                csv_writer.writerow(row) \n",
    "            \n",
    "        except:\n",
    "            pass\n",
    "                        \n",
    "        cv2.imshow('Raw Webcam Feed', image)\n",
    "\n",
    "        \n",
    "        #--------------------------------------------------Closing WebCAM ----------------------------------------\n",
    "        if cv2.waitKey(10) & 0xFF == ord('q'):\n",
    "            break\n",
    "\n",
    "cap.release()\n",
    "cv2.destroyAllWindows()"
   ]
  },
  {
   "cell_type": "markdown",
   "id": "45620897",
   "metadata": {},
   "source": [
    "### Capturing Angry Face"
   ]
  },
  {
   "cell_type": "code",
   "execution_count": 77,
   "id": "1240c954",
   "metadata": {},
   "outputs": [],
   "source": [
    "class_name = \"Angry\""
   ]
  },
  {
   "cell_type": "code",
   "execution_count": 78,
   "id": "74b6e797",
   "metadata": {},
   "outputs": [],
   "source": [
    "#----------------------------------------connecting to webcam--------------------------------------------------\n",
    "cap = cv2.VideoCapture(0)\n",
    "\n",
    "\n",
    "\n",
    "#------------------------------------- Initiate holistic model-------------------------------------------------\n",
    "with mp_holistic.Holistic(min_detection_confidence=0.5, min_tracking_confidence=0.5) as holistic:\n",
    "    \n",
    "    while cap.isOpened():          # Looping through each Frame that is coming through webcam\n",
    "        \n",
    "        ret, frame = cap.read()    # Keeping image from webcam and keeping it into this variable `frame`\n",
    "        \n",
    "        \n",
    "        \n",
    "        \n",
    "        #---------------------- Recolor Feed of Mediapipe-------------------------------------------\n",
    "        image = cv2.cvtColor(frame, cv2.COLOR_BGR2RGB)   #converting input frame from the BGR to the RGB.\n",
    "        image.flags.writeable = False                    # prevent accidental modification of image data\n",
    "        \n",
    "        \n",
    "        results = holistic.process(image)\n",
    "        # passes the preprocessed image to the process method of the holistic object.\n",
    "        # The process methodreturns a results object containing the detected landmarks and other information.\n",
    "        \n",
    "         \n",
    "        #----------------- Recolor image back to BGR for rendering-----------------------------------\n",
    "        image.flags.writeable = True                     # allowing modifications to the image data.\n",
    "        image = cv2.cvtColor(image, cv2.COLOR_RGB2BGR)   # converting input frame from the RGB to the BGR.\n",
    "        \n",
    "        \n",
    "        #-----------------------------------------Drawing Landmarks-------------------------------\n",
    "        # 1. Draw face landmarks\n",
    "        mp_drawing.draw_landmarks(image, results.face_landmarks, mp_holistic.FACEMESH_CONTOURS, \n",
    "                                 mp_drawing.DrawingSpec(color=(80,110,10), thickness=1, circle_radius=1),\n",
    "                                 mp_drawing.DrawingSpec(color=(80,256,121), thickness=1, circle_radius=1)\n",
    "                                 )\n",
    "        \n",
    "        # 2. Right hand\n",
    "        mp_drawing.draw_landmarks(image, results.right_hand_landmarks, mp_holistic.HAND_CONNECTIONS, \n",
    "                                 mp_drawing.DrawingSpec(color=(80,22,10), thickness=2, circle_radius=4),\n",
    "                                 mp_drawing.DrawingSpec(color=(80,44,121), thickness=2, circle_radius=2)\n",
    "                                 )\n",
    "\n",
    "        # 3. Left Hand\n",
    "        mp_drawing.draw_landmarks(image, results.left_hand_landmarks, mp_holistic.HAND_CONNECTIONS, \n",
    "                                 mp_drawing.DrawingSpec(color=(121,22,76), thickness=2, circle_radius=4),\n",
    "                                 mp_drawing.DrawingSpec(color=(121,44,250), thickness=2, circle_radius=2)\n",
    "                                 )\n",
    "\n",
    "        # 4. Pose Detections\n",
    "        mp_drawing.draw_landmarks(image, results.pose_landmarks, mp_holistic.POSE_CONNECTIONS, \n",
    "                                 mp_drawing.DrawingSpec(color=(245,117,66), thickness=2, circle_radius=4),\n",
    "                                 mp_drawing.DrawingSpec(color=(245,66,230), thickness=2, circle_radius=2)\n",
    "                                 )\n",
    "        \n",
    "#-------------------------------------------------------------------------------------------------------------------------\n",
    "#------------------------------------------------------------------------------------------------------------------------\n",
    "#------------------------------------------------------------------------------------------------------------------------\n",
    "#-------------------------------------------------------------------------------------------------------------------------\n",
    "#---------------------------------------------------------------------------------------------------------        \n",
    "#-------------------------------------------------------------------------------------------------------------------------\n",
    "#------------------------------------------------------------------------------------------------------------------------\n",
    "#------------------------------------------------------------------------------------------------------------------------\n",
    "#-------------------------------------------------------------------------------------------------------------------------\n",
    "        \n",
    "        \n",
    "        #------------------------------- Export coordinates------------------------------------------------------\n",
    "        try:\n",
    "            # Extract Pose landmarks\n",
    "            pose = results.pose_landmarks.landmark\n",
    "            pose_row = list(np.array([[landmark.x, landmark.y, landmark.z, landmark.visibility] for landmark in pose]).flatten())\n",
    "            \n",
    "            # Extract Face landmarks\n",
    "            face = results.face_landmarks.landmark\n",
    "            face_row = list(np.array([[landmark.x, landmark.y, landmark.z, landmark.visibility] for landmark in face]).flatten())\n",
    "            \n",
    "            # Concate rows\n",
    "            row = pose_row+face_row\n",
    "            \n",
    "            # Append class name \n",
    "            row.insert(0, class_name)\n",
    "            \n",
    "            # Export to CSV\n",
    "            with open('coords.csv', mode='a', newline='') as f:\n",
    "                csv_writer = csv.writer(f, delimiter=',', quotechar='\"', quoting=csv.QUOTE_MINIMAL)\n",
    "                csv_writer.writerow(row) \n",
    "            \n",
    "        except:\n",
    "            pass\n",
    "                        \n",
    "        cv2.imshow('Raw Webcam Feed', image)\n",
    "\n",
    "        \n",
    "        #--------------------------------------------------Closing WebCAM ----------------------------------------\n",
    "        if cv2.waitKey(10) & 0xFF == ord('q'):\n",
    "            break\n",
    "\n",
    "cap.release()\n",
    "cv2.destroyAllWindows()"
   ]
  },
  {
   "cell_type": "markdown",
   "id": "aef522c2",
   "metadata": {},
   "source": [
    "### Capturing Feeling Great"
   ]
  },
  {
   "cell_type": "code",
   "execution_count": 79,
   "id": "4e0ee953",
   "metadata": {},
   "outputs": [],
   "source": [
    "class_name = \"Feeling Great\""
   ]
  },
  {
   "cell_type": "code",
   "execution_count": 80,
   "id": "b39b73a6",
   "metadata": {},
   "outputs": [],
   "source": [
    "#----------------------------------------connecting to webcam--------------------------------------------------\n",
    "cap = cv2.VideoCapture(0)\n",
    "\n",
    "\n",
    "\n",
    "#------------------------------------- Initiate holistic model-------------------------------------------------\n",
    "with mp_holistic.Holistic(min_detection_confidence=0.5, min_tracking_confidence=0.5) as holistic:\n",
    "    \n",
    "    while cap.isOpened():          # Looping through each Frame that is coming through webcam\n",
    "        \n",
    "        ret, frame = cap.read()    # Keeping image from webcam and keeping it into this variable `frame`\n",
    "        \n",
    "        \n",
    "        \n",
    "        \n",
    "        #---------------------- Recolor Feed of Mediapipe-------------------------------------------\n",
    "        image = cv2.cvtColor(frame, cv2.COLOR_BGR2RGB)   #converting input frame from the BGR to the RGB.\n",
    "        image.flags.writeable = False                    # prevent accidental modification of image data\n",
    "        \n",
    "        \n",
    "        results = holistic.process(image)\n",
    "        # passes the preprocessed image to the process method of the holistic object.\n",
    "        # The process methodreturns a results object containing the detected landmarks and other information.\n",
    "        \n",
    "         \n",
    "        #----------------- Recolor image back to BGR for rendering-----------------------------------\n",
    "        image.flags.writeable = True                     # allowing modifications to the image data.\n",
    "        image = cv2.cvtColor(image, cv2.COLOR_RGB2BGR)   # converting input frame from the RGB to the BGR.\n",
    "        \n",
    "        \n",
    "        #-----------------------------------------Drawing Landmarks-------------------------------\n",
    "        # 1. Draw face landmarks\n",
    "        mp_drawing.draw_landmarks(image, results.face_landmarks, mp_holistic.FACEMESH_CONTOURS, \n",
    "                                 mp_drawing.DrawingSpec(color=(80,110,10), thickness=1, circle_radius=1),\n",
    "                                 mp_drawing.DrawingSpec(color=(80,256,121), thickness=1, circle_radius=1)\n",
    "                                 )\n",
    "        \n",
    "        # 2. Right hand\n",
    "        mp_drawing.draw_landmarks(image, results.right_hand_landmarks, mp_holistic.HAND_CONNECTIONS, \n",
    "                                 mp_drawing.DrawingSpec(color=(80,22,10), thickness=2, circle_radius=4),\n",
    "                                 mp_drawing.DrawingSpec(color=(80,44,121), thickness=2, circle_radius=2)\n",
    "                                 )\n",
    "\n",
    "        # 3. Left Hand\n",
    "        mp_drawing.draw_landmarks(image, results.left_hand_landmarks, mp_holistic.HAND_CONNECTIONS, \n",
    "                                 mp_drawing.DrawingSpec(color=(121,22,76), thickness=2, circle_radius=4),\n",
    "                                 mp_drawing.DrawingSpec(color=(121,44,250), thickness=2, circle_radius=2)\n",
    "                                 )\n",
    "\n",
    "        # 4. Pose Detections\n",
    "        mp_drawing.draw_landmarks(image, results.pose_landmarks, mp_holistic.POSE_CONNECTIONS, \n",
    "                                 mp_drawing.DrawingSpec(color=(245,117,66), thickness=2, circle_radius=4),\n",
    "                                 mp_drawing.DrawingSpec(color=(245,66,230), thickness=2, circle_radius=2)\n",
    "                                 )\n",
    "        \n",
    "#-------------------------------------------------------------------------------------------------------------------------\n",
    "#------------------------------------------------------------------------------------------------------------------------\n",
    "#------------------------------------------------------------------------------------------------------------------------\n",
    "#-------------------------------------------------------------------------------------------------------------------------\n",
    "#---------------------------------------------------------------------------------------------------------        \n",
    "#-------------------------------------------------------------------------------------------------------------------------\n",
    "#------------------------------------------------------------------------------------------------------------------------\n",
    "#------------------------------------------------------------------------------------------------------------------------\n",
    "#-------------------------------------------------------------------------------------------------------------------------\n",
    "        \n",
    "        \n",
    "        #------------------------------- Export coordinates------------------------------------------------------\n",
    "        try:\n",
    "            # Extract Pose landmarks\n",
    "            pose = results.pose_landmarks.landmark\n",
    "            pose_row = list(np.array([[landmark.x, landmark.y, landmark.z, landmark.visibility] for landmark in pose]).flatten())\n",
    "            \n",
    "            # Extract Face landmarks\n",
    "            face = results.face_landmarks.landmark\n",
    "            face_row = list(np.array([[landmark.x, landmark.y, landmark.z, landmark.visibility] for landmark in face]).flatten())\n",
    "            \n",
    "            # Concate rows\n",
    "            row = pose_row+face_row\n",
    "            \n",
    "            # Append class name \n",
    "            row.insert(0, class_name)\n",
    "            \n",
    "            # Export to CSV\n",
    "            with open('coords.csv', mode='a', newline='') as f:\n",
    "                csv_writer = csv.writer(f, delimiter=',', quotechar='\"', quoting=csv.QUOTE_MINIMAL)\n",
    "                csv_writer.writerow(row) \n",
    "            \n",
    "        except:\n",
    "            pass\n",
    "                        \n",
    "        cv2.imshow('Raw Webcam Feed', image)\n",
    "\n",
    "        \n",
    "        #--------------------------------------------------Closing WebCAM ----------------------------------------\n",
    "        if cv2.waitKey(10) & 0xFF == ord('q'):\n",
    "            break\n",
    "\n",
    "cap.release()\n",
    "cv2.destroyAllWindows()"
   ]
  },
  {
   "cell_type": "markdown",
   "id": "13f3debb",
   "metadata": {},
   "source": [
    "## Add The Name of your custom Pose Below"
   ]
  },
  {
   "cell_type": "code",
   "execution_count": 26,
   "id": "b6694829",
   "metadata": {},
   "outputs": [],
   "source": [
    "#class_name = \"\""
   ]
  },
  {
   "cell_type": "code",
   "execution_count": 28,
   "id": "fb36005b",
   "metadata": {
    "collapsed": true
   },
   "outputs": [
    {
     "data": {
      "text/plain": [
       "'\\n#----------------------------------------connecting to webcam--------------------------------------------------\\ncap = cv2.VideoCapture(0)\\n\\n\\n\\n#------------------------------------- Initiate holistic model-------------------------------------------------\\nwith mp_holistic.Holistic(min_detection_confidence=0.5, min_tracking_confidence=0.5) as holistic:\\n    \\n    while cap.isOpened():          # Looping through each Frame that is coming through webcam\\n        \\n        ret, frame = cap.read()    # Keeping image from webcam and keeping it into this variable `frame`\\n        \\n        \\n        \\n        \\n        #---------------------- Recolor Feed of Mediapipe-------------------------------------------\\n        image = cv2.cvtColor(frame, cv2.COLOR_BGR2RGB)   #converting input frame from the BGR to the RGB.\\n        image.flags.writeable = False                    # prevent accidental modification of image data\\n        \\n        \\n        results = holistic.process(image)\\n        # passes the preprocessed image to the process method of the holistic object.\\n        # The process methodreturns a results object containing the detected landmarks and other information.\\n        \\n         \\n        #----------------- Recolor image back to BGR for rendering-----------------------------------\\n        image.flags.writeable = True                     # allowing modifications to the image data.\\n        image = cv2.cvtColor(image, cv2.COLOR_RGB2BGR)   # converting input frame from the RGB to the BGR.\\n        \\n        \\n        #-----------------------------------------Drawing Landmarks-------------------------------\\n        # 1. Draw face landmarks\\n        mp_drawing.draw_landmarks(image, results.face_landmarks, mp_holistic.FACEMESH_CONTOURS, \\n                                 mp_drawing.DrawingSpec(color=(80,110,10), thickness=1, circle_radius=1),\\n                                 mp_drawing.DrawingSpec(color=(80,256,121), thickness=1, circle_radius=1)\\n                                 )\\n        \\n        # 2. Right hand\\n        mp_drawing.draw_landmarks(image, results.right_hand_landmarks, mp_holistic.HAND_CONNECTIONS, \\n                                 mp_drawing.DrawingSpec(color=(80,22,10), thickness=2, circle_radius=4),\\n                                 mp_drawing.DrawingSpec(color=(80,44,121), thickness=2, circle_radius=2)\\n                                 )\\n\\n        # 3. Left Hand\\n        mp_drawing.draw_landmarks(image, results.left_hand_landmarks, mp_holistic.HAND_CONNECTIONS, \\n                                 mp_drawing.DrawingSpec(color=(121,22,76), thickness=2, circle_radius=4),\\n                                 mp_drawing.DrawingSpec(color=(121,44,250), thickness=2, circle_radius=2)\\n                                 )\\n\\n        # 4. Pose Detections\\n        mp_drawing.draw_landmarks(image, results.pose_landmarks, mp_holistic.POSE_CONNECTIONS, \\n                                 mp_drawing.DrawingSpec(color=(245,117,66), thickness=2, circle_radius=4),\\n                                 mp_drawing.DrawingSpec(color=(245,66,230), thickness=2, circle_radius=2)\\n                                 )\\n        \\n        \\n        \\n        #------------------------------- Export coordinates------------------------------------------------------\\n        try:\\n            # Extract Pose landmarks\\n            pose = results.pose_landmarks.landmark\\n            pose_row = list(np.array([[landmark.x, landmark.y, landmark.z, landmark.visibility] for landmark in pose]).flatten())\\n            \\n            # Extract Face landmarks\\n            face = results.face_landmarks.landmark\\n            face_row = list(np.array([[landmark.x, landmark.y, landmark.z, landmark.visibility] for landmark in face]).flatten())\\n            \\n            # Concate rows\\n            row = pose_row+face_row\\n            \\n            # Append class name \\n            row.insert(0, class_name)\\n            \\n            # Export to CSV\\n            with open(\\'coords.csv\\', mode=\\'a\\', newline=\\'\\') as f:\\n                csv_writer = csv.writer(f, delimiter=\\',\\', quotechar=\\'\"\\', quoting=csv.QUOTE_MINIMAL)\\n                csv_writer.writerow(row) \\n            \\n        except:\\n            pass\\n                        \\n        cv2.imshow(\\'Raw Webcam Feed\\', image)\\n\\n        \\n        #--------------------------------------------------Closing WebCAM ----------------------------------------\\n        if cv2.waitKey(10) & 0xFF == ord(\\'q\\'):\\n            break\\n\\ncap.release()\\ncv2.destroyAllWindows()\\n'"
      ]
     },
     "execution_count": 28,
     "metadata": {},
     "output_type": "execute_result"
    }
   ],
   "source": [
    "\n",
    "# #----------------------------------------connecting to webcam--------------------------------------------------\n",
    "# cap = cv2.VideoCapture(0)\n",
    "\n",
    "\n",
    "\n",
    "# #------------------------------------- Initiate holistic model-------------------------------------------------\n",
    "# with mp_holistic.Holistic(min_detection_confidence=0.5, min_tracking_confidence=0.5) as holistic:\n",
    "    \n",
    "#     while cap.isOpened():          # Looping through each Frame that is coming through webcam\n",
    "        \n",
    "#         ret, frame = cap.read()    # Keeping image from webcam and keeping it into this variable `frame`\n",
    "        \n",
    "        \n",
    "        \n",
    "        \n",
    "#         #---------------------- Recolor Feed of Mediapipe-------------------------------------------\n",
    "#         image = cv2.cvtColor(frame, cv2.COLOR_BGR2RGB)   #converting input frame from the BGR to the RGB.\n",
    "#         image.flags.writeable = False                    # prevent accidental modification of image data\n",
    "        \n",
    "        \n",
    "#         results = holistic.process(image)\n",
    "#         # passes the preprocessed image to the process method of the holistic object.\n",
    "#         # The process methodreturns a results object containing the detected landmarks and other information.\n",
    "        \n",
    "         \n",
    "#         #----------------- Recolor image back to BGR for rendering-----------------------------------\n",
    "#         image.flags.writeable = True                     # allowing modifications to the image data.\n",
    "#         image = cv2.cvtColor(image, cv2.COLOR_RGB2BGR)   # converting input frame from the RGB to the BGR.\n",
    "        \n",
    "        \n",
    "#         #-----------------------------------------Drawing Landmarks-------------------------------\n",
    "#         # 1. Draw face landmarks\n",
    "#         mp_drawing.draw_landmarks(image, results.face_landmarks, mp_holistic.FACEMESH_CONTOURS, \n",
    "#                                  mp_drawing.DrawingSpec(color=(80,110,10), thickness=1, circle_radius=1),\n",
    "#                                  mp_drawing.DrawingSpec(color=(80,256,121), thickness=1, circle_radius=1)\n",
    "#                                  )\n",
    "        \n",
    "#         # 2. Right hand\n",
    "#         mp_drawing.draw_landmarks(image, results.right_hand_landmarks, mp_holistic.HAND_CONNECTIONS, \n",
    "#                                  mp_drawing.DrawingSpec(color=(80,22,10), thickness=2, circle_radius=4),\n",
    "#                                  mp_drawing.DrawingSpec(color=(80,44,121), thickness=2, circle_radius=2)\n",
    "#                                  )\n",
    "\n",
    "#         # 3. Left Hand\n",
    "#         mp_drawing.draw_landmarks(image, results.left_hand_landmarks, mp_holistic.HAND_CONNECTIONS, \n",
    "#                                  mp_drawing.DrawingSpec(color=(121,22,76), thickness=2, circle_radius=4),\n",
    "#                                  mp_drawing.DrawingSpec(color=(121,44,250), thickness=2, circle_radius=2)\n",
    "#                                  )\n",
    "\n",
    "#         # 4. Pose Detections\n",
    "#         mp_drawing.draw_landmarks(image, results.pose_landmarks, mp_holistic.POSE_CONNECTIONS, \n",
    "#                                  mp_drawing.DrawingSpec(color=(245,117,66), thickness=2, circle_radius=4),\n",
    "#                                  mp_drawing.DrawingSpec(color=(245,66,230), thickness=2, circle_radius=2)\n",
    "#                                  )\n",
    "\n",
    "        \n",
    "# #-------------------------------------------------------------------------------------------------------------------------\n",
    "# #------------------------------------------------------------------------------------------------------------------------\n",
    "# #------------------------------------------------------------------------------------------------------------------------\n",
    "# #-------------------------------------------------------------------------------------------------------------------------\n",
    "# #---------------------------------------------------------------------------------------------------------        \n",
    "# #-------------------------------------------------------------------------------------------------------------------------\n",
    "# #------------------------------------------------------------------------------------------------------------------------\n",
    "# #------------------------------------------------------------------------------------------------------------------------\n",
    "# #-------------------------------------------------------------------------------------------------------------------------\n",
    "        \n",
    "#         #------------------------------- Export coordinates------------------------------------------------------\n",
    "#         try:\n",
    "#             # Extract Pose landmarks\n",
    "#             pose = results.pose_landmarks.landmark\n",
    "#             pose_row = list(np.array([[landmark.x, landmark.y, landmark.z, landmark.visibility] for landmark in pose]).flatten())\n",
    "            \n",
    "#             # Extract Face landmarks\n",
    "#             face = results.face_landmarks.landmark\n",
    "#             face_row = list(np.array([[landmark.x, landmark.y, landmark.z, landmark.visibility] for landmark in face]).flatten())\n",
    "            \n",
    "#             # Concate rows\n",
    "#             row = pose_row+face_row\n",
    "            \n",
    "#             # Append class name \n",
    "#             row.insert(0, class_name)\n",
    "            \n",
    "#             # Export to CSV\n",
    "#             with open('coords.csv', mode='a', newline='') as f:\n",
    "#                 csv_writer = csv.writer(f, delimiter=',', quotechar='\"', quoting=csv.QUOTE_MINIMAL)\n",
    "#                 csv_writer.writerow(row) \n",
    "            \n",
    "#         except:\n",
    "#             pass\n",
    "                        \n",
    "#         cv2.imshow('Raw Webcam Feed', image)\n",
    "\n",
    "        \n",
    "#         #--------------------------------------------------Closing WebCAM ----------------------------------------\n",
    "#         if cv2.waitKey(10) & 0xFF == ord('q'):\n",
    "#             break\n",
    "\n",
    "# cap.release()\n",
    "# cv2.destroyAllWindows()\n"
   ]
  },
  {
   "cell_type": "code",
   "execution_count": null,
   "id": "2b8d41d8",
   "metadata": {},
   "outputs": [],
   "source": []
  }
 ],
 "metadata": {
  "kernelspec": {
   "display_name": "Python 3 (ipykernel)",
   "language": "python",
   "name": "python3"
  },
  "language_info": {
   "codemirror_mode": {
    "name": "ipython",
    "version": 3
   },
   "file_extension": ".py",
   "mimetype": "text/x-python",
   "name": "python",
   "nbconvert_exporter": "python",
   "pygments_lexer": "ipython3",
   "version": "3.11.7"
  }
 },
 "nbformat": 4,
 "nbformat_minor": 5
}
